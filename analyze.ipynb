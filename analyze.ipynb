{
 "cells": [
  {
   "cell_type": "code",
   "execution_count": 3,
   "metadata": {},
   "outputs": [
    {
     "ename": "ModuleNotFoundError",
     "evalue": "No module named 'pep8magic'",
     "output_type": "error",
     "traceback": [
      "\u001b[0;31m---------------------------------------------------------------------------\u001b[0m",
      "\u001b[0;31mModuleNotFoundError\u001b[0m                       Traceback (most recent call last)",
      "\u001b[0;32m<ipython-input-3-48b11fe01341>\u001b[0m in \u001b[0;36m<module>\u001b[0;34m()\u001b[0m\n\u001b[0;32m----> 1\u001b[0;31m \u001b[0mget_ipython\u001b[0m\u001b[0;34m(\u001b[0m\u001b[0;34m)\u001b[0m\u001b[0;34m.\u001b[0m\u001b[0mrun_line_magic\u001b[0m\u001b[0;34m(\u001b[0m\u001b[0;34m'load_ext'\u001b[0m\u001b[0;34m,\u001b[0m \u001b[0;34m'pep8magic'\u001b[0m\u001b[0;34m)\u001b[0m\u001b[0;34m\u001b[0m\u001b[0m\n\u001b[0m\u001b[1;32m      2\u001b[0m \u001b[0mget_ipython\u001b[0m\u001b[0;34m(\u001b[0m\u001b[0;34m)\u001b[0m\u001b[0;34m.\u001b[0m\u001b[0mrun_line_magic\u001b[0m\u001b[0;34m(\u001b[0m\u001b[0;34m'matplotlib'\u001b[0m\u001b[0;34m,\u001b[0m \u001b[0;34m'inline'\u001b[0m\u001b[0;34m)\u001b[0m\u001b[0;34m\u001b[0m\u001b[0m\n\u001b[1;32m      3\u001b[0m \u001b[0mget_ipython\u001b[0m\u001b[0;34m(\u001b[0m\u001b[0;34m)\u001b[0m\u001b[0;34m.\u001b[0m\u001b[0mrun_line_magic\u001b[0m\u001b[0;34m(\u001b[0m\u001b[0;34m'pep8'\u001b[0m\u001b[0;34m,\u001b[0m \u001b[0;34m''\u001b[0m\u001b[0;34m)\u001b[0m\u001b[0;34m\u001b[0m\u001b[0m\n\u001b[1;32m      4\u001b[0m \u001b[0;31m# standard\u001b[0m\u001b[0;34m\u001b[0m\u001b[0;34m\u001b[0m\u001b[0m\n\u001b[1;32m      5\u001b[0m \u001b[0;32mimport\u001b[0m \u001b[0mcsv\u001b[0m\u001b[0;34m\u001b[0m\u001b[0m\n",
      "\u001b[0;32m/opt/nfs/anaconda3/lib/python3.6/site-packages/IPython/core/interactiveshell.py\u001b[0m in \u001b[0;36mrun_line_magic\u001b[0;34m(self, magic_name, line, _stack_depth)\u001b[0m\n\u001b[1;32m   2129\u001b[0m                 \u001b[0mkwargs\u001b[0m\u001b[0;34m[\u001b[0m\u001b[0;34m'local_ns'\u001b[0m\u001b[0;34m]\u001b[0m \u001b[0;34m=\u001b[0m \u001b[0msys\u001b[0m\u001b[0;34m.\u001b[0m\u001b[0m_getframe\u001b[0m\u001b[0;34m(\u001b[0m\u001b[0mstack_depth\u001b[0m\u001b[0;34m)\u001b[0m\u001b[0;34m.\u001b[0m\u001b[0mf_locals\u001b[0m\u001b[0;34m\u001b[0m\u001b[0m\n\u001b[1;32m   2130\u001b[0m             \u001b[0;32mwith\u001b[0m \u001b[0mself\u001b[0m\u001b[0;34m.\u001b[0m\u001b[0mbuiltin_trap\u001b[0m\u001b[0;34m:\u001b[0m\u001b[0;34m\u001b[0m\u001b[0m\n\u001b[0;32m-> 2131\u001b[0;31m                 \u001b[0mresult\u001b[0m \u001b[0;34m=\u001b[0m \u001b[0mfn\u001b[0m\u001b[0;34m(\u001b[0m\u001b[0;34m*\u001b[0m\u001b[0margs\u001b[0m\u001b[0;34m,\u001b[0m\u001b[0;34m**\u001b[0m\u001b[0mkwargs\u001b[0m\u001b[0;34m)\u001b[0m\u001b[0;34m\u001b[0m\u001b[0m\n\u001b[0m\u001b[1;32m   2132\u001b[0m             \u001b[0;32mreturn\u001b[0m \u001b[0mresult\u001b[0m\u001b[0;34m\u001b[0m\u001b[0m\n\u001b[1;32m   2133\u001b[0m \u001b[0;34m\u001b[0m\u001b[0m\n",
      "\u001b[0;32m<decorator-gen-65>\u001b[0m in \u001b[0;36mload_ext\u001b[0;34m(self, module_str)\u001b[0m\n",
      "\u001b[0;32m/opt/nfs/anaconda3/lib/python3.6/site-packages/IPython/core/magic.py\u001b[0m in \u001b[0;36m<lambda>\u001b[0;34m(f, *a, **k)\u001b[0m\n\u001b[1;32m    185\u001b[0m     \u001b[0;31m# but it's overkill for just that one bit of state.\u001b[0m\u001b[0;34m\u001b[0m\u001b[0;34m\u001b[0m\u001b[0m\n\u001b[1;32m    186\u001b[0m     \u001b[0;32mdef\u001b[0m \u001b[0mmagic_deco\u001b[0m\u001b[0;34m(\u001b[0m\u001b[0marg\u001b[0m\u001b[0;34m)\u001b[0m\u001b[0;34m:\u001b[0m\u001b[0;34m\u001b[0m\u001b[0m\n\u001b[0;32m--> 187\u001b[0;31m         \u001b[0mcall\u001b[0m \u001b[0;34m=\u001b[0m \u001b[0;32mlambda\u001b[0m \u001b[0mf\u001b[0m\u001b[0;34m,\u001b[0m \u001b[0;34m*\u001b[0m\u001b[0ma\u001b[0m\u001b[0;34m,\u001b[0m \u001b[0;34m**\u001b[0m\u001b[0mk\u001b[0m\u001b[0;34m:\u001b[0m \u001b[0mf\u001b[0m\u001b[0;34m(\u001b[0m\u001b[0;34m*\u001b[0m\u001b[0ma\u001b[0m\u001b[0;34m,\u001b[0m \u001b[0;34m**\u001b[0m\u001b[0mk\u001b[0m\u001b[0;34m)\u001b[0m\u001b[0;34m\u001b[0m\u001b[0m\n\u001b[0m\u001b[1;32m    188\u001b[0m \u001b[0;34m\u001b[0m\u001b[0m\n\u001b[1;32m    189\u001b[0m         \u001b[0;32mif\u001b[0m \u001b[0mcallable\u001b[0m\u001b[0;34m(\u001b[0m\u001b[0marg\u001b[0m\u001b[0;34m)\u001b[0m\u001b[0;34m:\u001b[0m\u001b[0;34m\u001b[0m\u001b[0m\n",
      "\u001b[0;32m/opt/nfs/anaconda3/lib/python3.6/site-packages/IPython/core/magics/extension.py\u001b[0m in \u001b[0;36mload_ext\u001b[0;34m(self, module_str)\u001b[0m\n\u001b[1;32m     31\u001b[0m         \u001b[0;32mif\u001b[0m \u001b[0;32mnot\u001b[0m \u001b[0mmodule_str\u001b[0m\u001b[0;34m:\u001b[0m\u001b[0;34m\u001b[0m\u001b[0m\n\u001b[1;32m     32\u001b[0m             \u001b[0;32mraise\u001b[0m \u001b[0mUsageError\u001b[0m\u001b[0;34m(\u001b[0m\u001b[0;34m'Missing module name.'\u001b[0m\u001b[0;34m)\u001b[0m\u001b[0;34m\u001b[0m\u001b[0m\n\u001b[0;32m---> 33\u001b[0;31m         \u001b[0mres\u001b[0m \u001b[0;34m=\u001b[0m \u001b[0mself\u001b[0m\u001b[0;34m.\u001b[0m\u001b[0mshell\u001b[0m\u001b[0;34m.\u001b[0m\u001b[0mextension_manager\u001b[0m\u001b[0;34m.\u001b[0m\u001b[0mload_extension\u001b[0m\u001b[0;34m(\u001b[0m\u001b[0mmodule_str\u001b[0m\u001b[0;34m)\u001b[0m\u001b[0;34m\u001b[0m\u001b[0m\n\u001b[0m\u001b[1;32m     34\u001b[0m \u001b[0;34m\u001b[0m\u001b[0m\n\u001b[1;32m     35\u001b[0m         \u001b[0;32mif\u001b[0m \u001b[0mres\u001b[0m \u001b[0;34m==\u001b[0m \u001b[0;34m'already loaded'\u001b[0m\u001b[0;34m:\u001b[0m\u001b[0;34m\u001b[0m\u001b[0m\n",
      "\u001b[0;32m/opt/nfs/anaconda3/lib/python3.6/site-packages/IPython/core/extensions.py\u001b[0m in \u001b[0;36mload_extension\u001b[0;34m(self, module_str)\u001b[0m\n\u001b[1;32m     83\u001b[0m             \u001b[0;32mif\u001b[0m \u001b[0mmodule_str\u001b[0m \u001b[0;32mnot\u001b[0m \u001b[0;32min\u001b[0m \u001b[0msys\u001b[0m\u001b[0;34m.\u001b[0m\u001b[0mmodules\u001b[0m\u001b[0;34m:\u001b[0m\u001b[0;34m\u001b[0m\u001b[0m\n\u001b[1;32m     84\u001b[0m                 \u001b[0;32mwith\u001b[0m \u001b[0mprepended_to_syspath\u001b[0m\u001b[0;34m(\u001b[0m\u001b[0mself\u001b[0m\u001b[0;34m.\u001b[0m\u001b[0mipython_extension_dir\u001b[0m\u001b[0;34m)\u001b[0m\u001b[0;34m:\u001b[0m\u001b[0;34m\u001b[0m\u001b[0m\n\u001b[0;32m---> 85\u001b[0;31m                     \u001b[0mmod\u001b[0m \u001b[0;34m=\u001b[0m \u001b[0mimport_module\u001b[0m\u001b[0;34m(\u001b[0m\u001b[0mmodule_str\u001b[0m\u001b[0;34m)\u001b[0m\u001b[0;34m\u001b[0m\u001b[0m\n\u001b[0m\u001b[1;32m     86\u001b[0m                     \u001b[0;32mif\u001b[0m \u001b[0mmod\u001b[0m\u001b[0;34m.\u001b[0m\u001b[0m__file__\u001b[0m\u001b[0;34m.\u001b[0m\u001b[0mstartswith\u001b[0m\u001b[0;34m(\u001b[0m\u001b[0mself\u001b[0m\u001b[0;34m.\u001b[0m\u001b[0mipython_extension_dir\u001b[0m\u001b[0;34m)\u001b[0m\u001b[0;34m:\u001b[0m\u001b[0;34m\u001b[0m\u001b[0m\n\u001b[1;32m     87\u001b[0m                         print((\"Loading extensions from {dir} is deprecated. \"\n",
      "\u001b[0;32m/usr/local/anaconda3/lib/python3.6/importlib/__init__.py\u001b[0m in \u001b[0;36mimport_module\u001b[0;34m(name, package)\u001b[0m\n\u001b[1;32m    124\u001b[0m                 \u001b[0;32mbreak\u001b[0m\u001b[0;34m\u001b[0m\u001b[0m\n\u001b[1;32m    125\u001b[0m             \u001b[0mlevel\u001b[0m \u001b[0;34m+=\u001b[0m \u001b[0;36m1\u001b[0m\u001b[0;34m\u001b[0m\u001b[0m\n\u001b[0;32m--> 126\u001b[0;31m     \u001b[0;32mreturn\u001b[0m \u001b[0m_bootstrap\u001b[0m\u001b[0;34m.\u001b[0m\u001b[0m_gcd_import\u001b[0m\u001b[0;34m(\u001b[0m\u001b[0mname\u001b[0m\u001b[0;34m[\u001b[0m\u001b[0mlevel\u001b[0m\u001b[0;34m:\u001b[0m\u001b[0;34m]\u001b[0m\u001b[0;34m,\u001b[0m \u001b[0mpackage\u001b[0m\u001b[0;34m,\u001b[0m \u001b[0mlevel\u001b[0m\u001b[0;34m)\u001b[0m\u001b[0;34m\u001b[0m\u001b[0m\n\u001b[0m\u001b[1;32m    127\u001b[0m \u001b[0;34m\u001b[0m\u001b[0m\n\u001b[1;32m    128\u001b[0m \u001b[0;34m\u001b[0m\u001b[0m\n",
      "\u001b[0;32m/usr/local/anaconda3/lib/python3.6/importlib/_bootstrap.py\u001b[0m in \u001b[0;36m_gcd_import\u001b[0;34m(name, package, level)\u001b[0m\n",
      "\u001b[0;32m/usr/local/anaconda3/lib/python3.6/importlib/_bootstrap.py\u001b[0m in \u001b[0;36m_find_and_load\u001b[0;34m(name, import_)\u001b[0m\n",
      "\u001b[0;32m/usr/local/anaconda3/lib/python3.6/importlib/_bootstrap.py\u001b[0m in \u001b[0;36m_find_and_load_unlocked\u001b[0;34m(name, import_)\u001b[0m\n",
      "\u001b[0;31mModuleNotFoundError\u001b[0m: No module named 'pep8magic'"
     ]
    }
   ],
   "source": [
    "%load_ext pep8magic\n",
    "%matplotlib inline\n",
    "%pep8\n",
    "# standard\n",
    "import csv\n",
    "import glob\n",
    "import json\n",
    "import re\n",
    "import time\n",
    "# 3rd-party\n",
    "from scipy import stats\n",
    "import pandas as pd\n",
    "import requests_oauthlib\n",
    "# self-made\n",
    "from conf import *"
   ]
  },
  {
   "cell_type": "code",
   "execution_count": 2,
   "metadata": {},
   "outputs": [
    {
     "ename": "NameError",
     "evalue": "name 'glob' is not defined",
     "output_type": "error",
     "traceback": [
      "\u001b[0;31m---------------------------------------------------------------------------\u001b[0m",
      "\u001b[0;31mNameError\u001b[0m                                 Traceback (most recent call last)",
      "\u001b[0;32m<ipython-input-2-43f8a6a4fb1b>\u001b[0m in \u001b[0;36m<module>\u001b[0;34m()\u001b[0m\n\u001b[1;32m      3\u001b[0m \u001b[0;31m# file is obtained by Twitter Media Downloader\u001b[0m\u001b[0;34m\u001b[0m\u001b[0;34m\u001b[0m\u001b[0m\n\u001b[1;32m      4\u001b[0m \u001b[0;31m# https://memo.furyutei.work/entry/20160723/1469282864\u001b[0m\u001b[0;34m\u001b[0m\u001b[0;34m\u001b[0m\u001b[0m\n\u001b[0;32m----> 5\u001b[0;31m \u001b[0mdir\u001b[0m \u001b[0;34m=\u001b[0m \u001b[0msorted\u001b[0m\u001b[0;34m(\u001b[0m\u001b[0mglob\u001b[0m\u001b[0;34m.\u001b[0m\u001b[0mglob\u001b[0m\u001b[0;34m(\u001b[0m\u001b[0;34m'./CSV/*/'\u001b[0m\u001b[0;34m)\u001b[0m\u001b[0;34m)\u001b[0m\u001b[0;34m[\u001b[0m\u001b[0;34m-\u001b[0m\u001b[0;36m1\u001b[0m\u001b[0;34m]\u001b[0m\u001b[0;34m\u001b[0m\u001b[0m\n\u001b[0m\u001b[1;32m      6\u001b[0m \u001b[0mfile\u001b[0m \u001b[0;34m=\u001b[0m \u001b[0mglob\u001b[0m\u001b[0;34m.\u001b[0m\u001b[0mglob\u001b[0m\u001b[0;34m(\u001b[0m\u001b[0mdir\u001b[0m\u001b[0;34m+\u001b[0m\u001b[0;34m'*dryrun.csv'\u001b[0m\u001b[0;34m)\u001b[0m\u001b[0;34m[\u001b[0m\u001b[0;36m0\u001b[0m\u001b[0;34m]\u001b[0m\u001b[0;34m\u001b[0m\u001b[0m\n\u001b[1;32m      7\u001b[0m c_d = pd.read_csv(file,\n",
      "\u001b[0;31mNameError\u001b[0m: name 'glob' is not defined"
     ]
    }
   ],
   "source": [
    "# read raw csv\n",
    "# read the latest file in the csv folder\n",
    "# file is obtained by Twitter Media Downloader\n",
    "# https://memo.furyutei.work/entry/20160723/1469282864\n",
    "dir = sorted(glob.glob('./CSV/*/'))[-1]\n",
    "file = glob.glob(dir+'*dryrun.csv')[0]\n",
    "c_d = pd.read_csv(file,\n",
    "                      parse_dates=[\"Tweet date\"],\n",
    "                      skiprows=[0,1,2,3])\n",
    "c_d"
   ]
  },
  {
   "cell_type": "code",
   "execution_count": null,
   "metadata": {},
   "outputs": [],
   "source": [
    "# fetch tweeted user from tweet link URL by API\n",
    "\"\"\"\n",
    "statuses/show ツイートid1つから取得\n",
    "900tweet/15m\n",
    "処理簡単\n",
    "\n",
    "statuses/lookup ツイートid100つから取得\n",
    "30000tweet/15m\n",
    "処理複雑(そうでもない)\n",
    "\"\"\"\n",
    "\n",
    "\n",
    "twitter = requests_oauthlib.OAuth1Session(CK, CS, t_AT, AS)\n",
    "def getUser(url, twitter):\n",
    "    params ={\n",
    "        'id': re.search(r'^(\\d+)', url[::-1]).groups()[0][::-1],\n",
    "        'trim_user': 'false',\n",
    "        'include_my_retweet': 'false',\n",
    "        'include_entities': 'true',\n",
    "    }\n",
    "    while True:\n",
    "        req = twitter.get('https://api.twitter.com/1.1/statuses/show.json',\n",
    "                      params=params)\n",
    "        time.sleep(1)\n",
    "        if req.status_code == 200:\n",
    "            j = json.loads(req.text)\n",
    "            try:\n",
    "                return j['quoted_status']['user']['screen_name']\n",
    "            except KeyError:\n",
    "                \"\"\"\n",
    "                estimate from the URL in tweet\n",
    "                when the quoted tweet has been deleted (Reliability: low)\n",
    "                \"\"\"\n",
    "                urls = [u['expanded_url'] for u in j['entities']['urls']]\n",
    "                cand = [re.search(r'https://twitter.com/([^/]+)/status/\\d+',\n",
    "                                  u) for u in urls]\n",
    "                cand = [t.groups(1)[0] for t in cand if t]\n",
    "                if cand:\n",
    "                    return cand[0]\n",
    "                else:\n",
    "                    return 'minyoruminyon'\n",
    "        else:\n",
    "            continue"
   ]
  },
  {
   "cell_type": "code",
   "execution_count": null,
   "metadata": {
    "scrolled": true
   },
   "outputs": [],
   "source": [
    "# make formatted.csv\n",
    "newcsv = {'Date':c_d['Tweet date'], \n",
    "          'URL': c_d['Tweet URL'],\n",
    "          'User': [],\n",
    "          'R+L': c_d['Retweets'].fillna(0) + c_d['Likes'].fillna(0),\n",
    "          'Retweets': c_d['Retweets'],\n",
    "          'Likes': c_d['Likes']}\n",
    "\n",
    "# assume user posted a tweet which was RT'd by @minyoruminyon\n",
    "c = ln = 0\n",
    "for line in c_d:\n",
    "    user = re.search(\n",
    "        r'https://twitter.com/([a-zA-Z0-9_]+)/status/[0-9]+',\n",
    "        line['Tweet content'])\n",
    "    if not user:\n",
    "        user = 'minyoruminyon'\n",
    "    else:\n",
    "        user = list(set(user.groups()))\n",
    "        if user == ['minyoruminyon']:\n",
    "            user = 'minyoruminyon'\n",
    "        else:\n",
    "            user = getUser(line['Tweet URL'])\n",
    "            time.sleep(1)\n",
    "            c += 1\n",
    "            print(\"%05d:%s        \" % (c, user), end=\"\\r\")\n",
    "    print(\"%05d\" % ln, end=\"\\r\")    \n",
    "    newcsv['User'].append(user)\n",
    "pd.DataFrame(newcsv).fillna(0).to_csv(dir+'formatted.csv', index=None)\n",
    "pd.read_csv(dir+'formatted.csv')"
   ]
  },
  {
   "cell_type": "code",
   "execution_count": null,
   "metadata": {},
   "outputs": [],
   "source": [
    "# read formatted.csv\n",
    "f_d = pd.read_csv(dir+'formatted.csv')\n",
    "# make user.csv\n",
    "userdata = []\n",
    "c = 1\n",
    "tmp = None\n",
    "for k,v in f_d['User'].value_counts().items():\n",
    "    userdata.append([c,k,v])\n",
    "    if tmp != v:\n",
    "        c += 1\n",
    "    if not tmp:\n",
    "        tmp = v\n",
    "    tmp = v\n",
    "with open(dir+'user.csv', 'w') as f:\n",
    "    w = csv.writer(f)\n",
    "    w.writerow(['Rank', 'User', 'Count'])\n",
    "    w.writerows(userdata)\n",
    "pd.read_csv(dir+'user.csv')"
   ]
  },
  {
   "cell_type": "code",
   "execution_count": null,
   "metadata": {},
   "outputs": [],
   "source": [
    "# make buzz.csv\n",
    "buzz = f_d.sort_values('R+L', ascending=False)\n",
    "buzz.to_csv(dir+'buzz.csv', index=None)\n",
    "# reindex\n",
    "buzz = pd.read_csv(dir+'buzz.csv')\n",
    "buzz.index = buzz.index + 1\n",
    "buzz.to_csv(dir+'buzz.csv')\n",
    "buzz[0:1000].to_csv(dir+'buzz_1000.csv')\n",
    "pd.read_csv(dir+'buzz_1000.csv')"
   ]
  },
  {
   "cell_type": "code",
   "execution_count": null,
   "metadata": {},
   "outputs": [],
   "source": [
    "# by month\n",
    "t = pd.read_csv(dir+'formatted.csv')\n",
    "t['Date'] = pd.to_datetime(t['Date'])\n",
    "bymonth = []\n",
    "for y in t['Date'].dt.year.unique()[::-1]:\n",
    "    for m in range(1,13):\n",
    "        bymonth.append([\"%d/%d\" % (y,m),\n",
    "                       len(t[(t['Date'].dt.year == y)&\n",
    "                             (t['Date'].dt.month == m)])\n",
    "                       ])\n",
    "with open(dir+'month.csv', 'w') as f:\n",
    "    w = csv.writer(f)\n",
    "    [w.writerow(i) for i in bymonth]\n",
    "pd.read_csv(dir+'month.csv')"
   ]
  },
  {
   "cell_type": "code",
   "execution_count": null,
   "metadata": {},
   "outputs": [],
   "source": [
    "# by hour\n",
    "t = pd.read_csv(dir+'formatted.csv')\n",
    "t['Date'] = pd.to_datetime(t['Date'])\n",
    "byhour = []\n",
    "for h in range(0,24):\n",
    "    byhour.append([\"%02d\" % h,\n",
    "                  len(t[(t['Date'].dt.hour == h)])])\n",
    "with open(dir+'hour.csv', 'w') as f:\n",
    "    w = csv.writer(f)\n",
    "    [w.writerow(i) for i in byhour]\n",
    "pd.read_csv(dir+'hour.csv')"
   ]
  },
  {
   "cell_type": "code",
   "execution_count": null,
   "metadata": {},
   "outputs": [],
   "source": [
    "# extract some user's one\n",
    "\n",
    "try:\n",
    "    os.makedirs(dir+'/user/')\n",
    "except FileExistsError:\n",
    "    pass\n",
    "def extractUser(target):\n",
    "    n = dir+'/user/%s.csv' % target\n",
    "    a = pd.read_csv(dir+'formatted.csv')\n",
    "    a[(a['User'] == target)].to_csv(n, index=False)\n",
    "    pd.read_csv(n).to_csv(n)\n",
    "    return pd.read_csv(n)\n",
    "\n",
    "u = pd.read_csv(dir+'user.csv')\n",
    "for t in u[(u['Count'] > 9)]['User']:\n",
    "    print(t,'            ' , end=\"\\r\")\n",
    "    extractUser(t)\n",
    "print('========END========')"
   ]
  },
  {
   "cell_type": "code",
   "execution_count": null,
   "metadata": {},
   "outputs": [],
   "source": [
    "u = pd.read_csv(dir+'user.csv')\n",
    "print(len(u),\n",
    "      len(u[(u['Count']>9)]))"
   ]
  },
  {
   "cell_type": "code",
   "execution_count": null,
   "metadata": {},
   "outputs": [],
   "source": [
    "# make user.md\n",
    "\n",
    "writer = pytablewriter.MarkdownTableWriter()\n",
    "writer.from_dataframe(\n",
    "    u.replace({'User':r'([0-9_a-zA-Z]+)'}, \n",
    "              {'User':r'[\\1](https://twitter.com/\\1)'},regex=True))\n",
    "writer.dump(dir+\"user.md\")\n",
    "writer.write_table()"
   ]
  },
  {
   "cell_type": "code",
   "execution_count": null,
   "metadata": {},
   "outputs": [],
   "source": [
    "# make buzz.md\n",
    "writer = pytablewriter.MarkdownTableWriter()\n",
    "b = pd.read_csv(dir+'buzz.csv').replace(\n",
    "            {'User':r'([0-9_a-zA-Z]+)'}, \n",
    "            {'User':r'[\\1](https://twitter.com/\\1)'},regex=True\n",
    "    ).replace(\n",
    "            {'URL':r'(^.*$)'}, \n",
    "            {'URL':r'[\\1](\\1)'},regex=True\n",
    "    )\n",
    "writer.from_dataframe(b)\n",
    "writer.dump(dir+\"buzz.md\")\n",
    "writer.from_dataframe(b[0:1000])\n",
    "writer.dump(dir+\"buzz_1000.md\")\n",
    "writer.from_dataframe(b[0:500])\n",
    "writer.dump(dir+\"buzz_500.md\")\n",
    "writer.from_dataframe(b[0:100])\n",
    "writer.dump(dir+\"buzz_100.md\")\n",
    "writer.write_table()"
   ]
  },
  {
   "cell_type": "code",
   "execution_count": null,
   "metadata": {},
   "outputs": [],
   "source": [
    "# make graphs\n",
    "def showgraph(name, title, xlabel, ylim, dir):\n",
    "    f=[i.split(',') for i in open(name).readlines()]\n",
    "    x,y=[],[]\n",
    "    for i in f:\n",
    "        x.append(i[0])\n",
    "        y.append(int(i[1]))\n",
    "\n",
    "    plt.figure(figsize=(10, 10), dpi=100)\n",
    "    plt.xlim(0,len(x)-1)\n",
    "    plt.ylim(0,ylim)\n",
    "    plt.grid(color='gray')\n",
    "    plt.title(title)\n",
    "    plt.xlabel(xlabel)\n",
    "    plt.ylabel('tweet(s)')\n",
    "    plt.plot(x, y)\n",
    "    plt.xticks(rotation=90)\n",
    "    plt.savefig(dir+title+'.png')\n",
    "showgraph(\n",
    "    dir+\"month.csv\",\n",
    "    \"\"\"shellgeibot tweet by months\n",
    "    %s\"\"\" % (file[49:][:-11]),\n",
    "    \"YYYY/MM\",\n",
    "    8000,\n",
    "    dir\n",
    ")\n",
    "showgraph(\n",
    "    dir+\"hour.csv\",\n",
    "    \"\"\"shellgeibot tweet by hours\n",
    "    %s\"\"\" % (file[49:][:-11]),\n",
    "    \"HH\",\n",
    "    4000,\n",
    "    dir\n",
    ")"
   ]
  }
 ],
 "metadata": {
  "kernelspec": {
   "display_name": "Python 3",
   "language": "python",
   "name": "python3"
  },
  "language_info": {
   "codemirror_mode": {
    "name": "ipython",
    "version": 3
   },
   "file_extension": ".py",
   "mimetype": "text/x-python",
   "name": "python",
   "nbconvert_exporter": "python",
   "pygments_lexer": "ipython3",
   "version": "3.6.5"
  }
 },
 "nbformat": 4,
 "nbformat_minor": 4
}
